{
  "nbformat": 4,
  "nbformat_minor": 0,
  "metadata": {
    "colab": {
      "name": "CNN-Signs.ipynb",
      "provenance": [],
      "collapsed_sections": [],
      "authorship_tag": "ABX9TyN38gy0nZ+/MpF9eytMuWt8",
      "include_colab_link": true
    },
    "kernelspec": {
      "name": "python3",
      "display_name": "Python 3"
    },
    "language_info": {
      "name": "python"
    }
  },
  "cells": [
    {
      "cell_type": "markdown",
      "metadata": {
        "id": "view-in-github",
        "colab_type": "text"
      },
      "source": [
        "<a href=\"https://colab.research.google.com/github/Y07-assine/Convolutional-Neural-Networks-on-signs-dataset/blob/main/CNN_Signs.ipynb\" target=\"_parent\"><img src=\"https://colab.research.google.com/assets/colab-badge.svg\" alt=\"Open In Colab\"/></a>"
      ]
    },
    {
      "cell_type": "markdown",
      "metadata": {
        "id": "POUtTsstgdMd"
      },
      "source": [
        "#Convolutional Neural Networks on signs dataset"
      ]
    },
    {
      "cell_type": "markdown",
      "metadata": {
        "id": "dK_zeCfjgvks"
      },
      "source": [
        "Import the needed packages"
      ]
    },
    {
      "cell_type": "code",
      "metadata": {
        "id": "i7p5n7GvgJLe"
      },
      "source": [
        "import math\n",
        "import numpy as np\n",
        "import h5py\n",
        "import matplotlib.pyplot as plt\n",
        "from matplotlib.pyplot import imread\n",
        "import scipy\n",
        "from PIL import Image\n",
        "import pandas as pd\n",
        "import tensorflow as tf\n",
        "import tensorflow.keras.layers as tfl\n",
        "from tensorflow.python.framework import ops\n",
        "\n",
        "%matplotlib inline\n",
        "np.random.seed(1)"
      ],
      "execution_count": 1,
      "outputs": []
    },
    {
      "cell_type": "markdown",
      "metadata": {
        "id": "yvlW-MVfhKTD"
      },
      "source": [
        "Load the 'Signs' dataset"
      ]
    },
    {
      "cell_type": "code",
      "metadata": {
        "id": "gblA-jkNhSIL"
      },
      "source": [
        "def load_dataset():\n",
        "    train_dataset = h5py.File('/content/train_signs.h5', \"r\")\n",
        "    train_set_x_orig = np.array(train_dataset[\"train_set_x\"][:]) # your train set features\n",
        "    train_set_y_orig = np.array(train_dataset[\"train_set_y\"][:]) # your train set labels\n",
        "\n",
        "    test_dataset = h5py.File('/content/test_signs.h5', \"r\")\n",
        "    test_set_x_orig = np.array(test_dataset[\"test_set_x\"][:]) # your test set features\n",
        "    test_set_y_orig = np.array(test_dataset[\"test_set_y\"][:]) # your test set labels\n",
        "\n",
        "    classes = np.array(test_dataset[\"list_classes\"][:]) # the list of classes\n",
        "    \n",
        "    train_set_y_orig = train_set_y_orig.reshape((1, train_set_y_orig.shape[0]))\n",
        "    test_set_y_orig = test_set_y_orig.reshape((1, test_set_y_orig.shape[0]))\n",
        "    \n",
        "    return train_set_x_orig, train_set_y_orig, test_set_x_orig, test_set_y_orig, classes"
      ],
      "execution_count": 2,
      "outputs": []
    },
    {
      "cell_type": "code",
      "metadata": {
        "id": "eyhzo2LuiGzL"
      },
      "source": [
        "X_train_orig, Y_train_orig, X_test_orig, Y_test_orig, classes = load_dataset()"
      ],
      "execution_count": 3,
      "outputs": []
    },
    {
      "cell_type": "markdown",
      "metadata": {
        "id": "aLR9HjmqiOmR"
      },
      "source": [
        "**The SIGNS dataset is a collection of 6 signs representing numbers from 0 to 5.**"
      ]
    },
    {
      "cell_type": "markdown",
      "metadata": {
        "id": "bKtOSudriSdR"
      },
      "source": [
        "let's show an example of a labelled image in the dataset"
      ]
    },
    {
      "cell_type": "code",
      "metadata": {
        "colab": {
          "base_uri": "https://localhost:8080/",
          "height": 285
        },
        "id": "6tEVvNGYifJS",
        "outputId": "f6bc7da0-6543-4fdc-f070-10385edd8662"
      },
      "source": [
        "index = 6\n",
        "plt.imshow(X_train_orig[index])\n",
        "print (\"y = \" + str(np.squeeze(Y_train_orig[:, index])))"
      ],
      "execution_count": 4,
      "outputs": [
        {
          "output_type": "stream",
          "name": "stdout",
          "text": [
            "y = 2\n"
          ]
        },
        {
          "output_type": "display_data",
          "data": {
            "image/png": "[encoded data removed]",
            "text/plain": [
              "<Figure size 432x288 with 1 Axes>"
            ]
          },
          "metadata": {
            "needs_background": "light"
          }
        }
      ]
    },
    {
      "cell_type": "markdown",
      "metadata": {
        "id": "hPOJ8S_3in1p"
      },
      "source": [
        "Examine the shapes of our data"
      ]
    },
    {
      "cell_type": "code",
      "metadata": {
        "colab": {
          "base_uri": "https://localhost:8080/"
        },
        "id": "FgEWW6SuisC5",
        "outputId": "dc0a89ee-df19-42aa-e244-bfdca67497df"
      },
      "source": [
        "X_train = X_train_orig/255.\n",
        "X_test = X_test_orig/255.\n",
        "Y_train = np.eye(6)[Y_train_orig.reshape(-1)]\n",
        "Y_test = np.eye(6)[Y_test_orig.reshape(-1)]\n",
        "print (\"number of training examples = \" + str(X_train.shape[0]))\n",
        "print (\"number of test examples = \" + str(X_test.shape[0]))\n",
        "print (\"X_train shape: \" + str(X_train.shape))\n",
        "print (\"Y_train shape: \" + str(Y_train.shape))\n",
        "print (\"X_test shape: \" + str(X_test.shape))\n",
        "print (\"Y_test shape: \" + str(Y_test.shape))"
      ],
      "execution_count": 7,
      "outputs": [
        {
          "output_type": "stream",
          "name": "stdout",
          "text": [
            "number of training examples = 1080\n",
            "number of test examples = 120\n",
            "X_train shape: (1080, 64, 64, 3)\n",
            "Y_train shape: (1080, 6)\n",
            "X_test shape: (120, 64, 64, 3)\n",
            "Y_test shape: (120, 6)\n"
          ]
        }
      ]
    },
    {
      "cell_type": "markdown",
      "metadata": {
        "id": "Pbhp2qkUlslN"
      },
      "source": [
        "Implement the convolutional_model function below to build the following model: CONV2D -> RELU -> MAXPOOL -> CONV2D -> RELU -> MAXPOOL -> FLATTEN -> DENSE. Use the functions above!\n",
        "\n",
        "Also, plug in the following parameters for all the steps:\n",
        "\n",
        "- Conv2D: Use 8 4 by 4 filters, stride 1, padding is \"SAME\"\n",
        "- ReLU\n",
        "- MaxPool2D: Use an 8 by 8 filter size and an 8 by 8 stride, padding is \"SAME\"\n",
        "- Conv2D: Use 16 2 by 2 filters, stride 1, padding is \"SAME\"\n",
        "- ReLU\n",
        "- MaxPool2D: Use a 4 by 4 filter size and a 4 by 4 stride, padding is \"SAME\"\n",
        "- Flatten the previous output.\n",
        "- Fully-connected (Dense) layer: Apply a fully connected layer with 6 neurons and a softmax activation."
      ]
    },
    {
      "cell_type": "code",
      "metadata": {
        "id": "8UXL4SkSl0R0"
      },
      "source": [
        "def convolutional_model(input_shape):\n",
        "  input_img = tf.keras.Input(shape=input_shape)\n",
        "  # CONV2D: 8 filters 4x4, stride of 1, padding 'SAME'\n",
        "  x = tf.keras.layers.Conv2D(8, (4, 4), strides = 1, padding = 'same')(input_img)\n",
        "  # RELU\n",
        "  x = tf.keras.layers.ReLU()(x)\n",
        "  # MAXPOOL: window 8x8, stride 8, padding 'SAME'\n",
        "  x = tf.keras.layers.MaxPool2D(pool_size = (8, 8), strides = 8, padding = 'same')(x)\n",
        "  # CONV2D: 16 filters 2x2, stride 1, padding 'SAME'\n",
        "  x = tf.keras.layers.Conv2D(16, (2, 2), strides = 1, padding = 'same')(x)\n",
        "  # RELU\n",
        "  x = tf.keras.layers.ReLU()(x)\n",
        "  # MAXPOOL: window 4x4, stride 4, padding 'SAME'\n",
        "  x = tf.keras.layers.MaxPool2D(pool_size = (4, 4), strides = 4, padding = 'same')(x)\n",
        "  #Flatten\n",
        "  x = tf.keras.layers.Flatten()(x)\n",
        "  # Dense layer\n",
        "  # 6 neurons in output layer. Hint: one of the arguments should be \"activation='softmax'\" \n",
        "  outputs = tf.keras.layers.Dense(6, activation = 'softmax')(x)\n",
        "\n",
        "  model = tf.keras.Model(inputs=input_img, outputs=outputs)\n",
        "  return model"
      ],
      "execution_count": 8,
      "outputs": []
    },
    {
      "cell_type": "code",
      "metadata": {
        "colab": {
          "base_uri": "https://localhost:8080/"
        },
        "id": "hmmViUTtg_lT",
        "outputId": "76b2877f-318b-4670-8614-76955eb25b97"
      },
      "source": [
        "conv_model = convolutional_model((64, 64, 3))\n",
        "conv_model.compile(optimizer='adam',\n",
        "                  loss='categorical_crossentropy',\n",
        "                  metrics=['accuracy'])\n",
        "conv_model.summary()"
      ],
      "execution_count": 9,
      "outputs": [
        {
          "output_type": "stream",
          "name": "stdout",
          "text": [
            "Model: \"model\"\n",
            "_________________________________________________________________\n",
            "Layer (type)                 Output Shape              Param #   \n",
            "=================================================================\n",
            "input_1 (InputLayer)         [(None, 64, 64, 3)]       0         \n",
            "_________________________________________________________________\n",
            "conv2d (Conv2D)              (None, 64, 64, 8)         392       \n",
            "_________________________________________________________________\n",
            "re_lu (ReLU)                 (None, 64, 64, 8)         0         \n",
            "_________________________________________________________________\n",
            "max_pooling2d (MaxPooling2D) (None, 8, 8, 8)           0         \n",
            "_________________________________________________________________\n",
            "conv2d_1 (Conv2D)            (None, 8, 8, 16)          528       \n",
            "_________________________________________________________________\n",
            "re_lu_1 (ReLU)               (None, 8, 8, 16)          0         \n",
            "_________________________________________________________________\n",
            "max_pooling2d_1 (MaxPooling2 (None, 2, 2, 16)          0         \n",
            "_________________________________________________________________\n",
            "flatten (Flatten)            (None, 64)                0         \n",
            "_________________________________________________________________\n",
            "dense (Dense)                (None, 6)                 390       \n",
            "=================================================================\n",
            "Total params: 1,310\n",
            "Trainable params: 1,310\n",
            "Non-trainable params: 0\n",
            "_________________________________________________________________\n"
          ]
        }
      ]
    },
    {
      "cell_type": "markdown",
      "metadata": {
        "id": "bLcQIuMxtSEK"
      },
      "source": [
        "- Train the model "
      ]
    },
    {
      "cell_type": "code",
      "metadata": {
        "colab": {
          "base_uri": "https://localhost:8080/"
        },
        "id": "_CniAjPKhUiZ",
        "outputId": "f5efd42d-69e5-4783-d5b5-21212cf13573"
      },
      "source": [
        "train_dataset = tf.data.Dataset.from_tensor_slices((X_train, Y_train)).batch(64)\n",
        "test_dataset = tf.data.Dataset.from_tensor_slices((X_test, Y_test)).batch(64)\n",
        "history = conv_model.fit(train_dataset, epochs=100, validation_data=test_dataset)"
      ],
      "execution_count": 10,
      "outputs": [
        {
          "output_type": "stream",
          "name": "stdout",
          "text": [
            "Epoch 1/100\n",
            "17/17 [==============================] - 3s 107ms/step - loss: 1.8070 - accuracy: 0.1565 - val_loss: 1.7902 - val_accuracy: 0.1667\n",
            "Epoch 2/100\n",
            "17/17 [==============================] - 2s 99ms/step - loss: 1.7900 - accuracy: 0.1741 - val_loss: 1.7856 - val_accuracy: 0.2583\n",
            "Epoch 3/100\n",
            "17/17 [==============================] - 2s 99ms/step - loss: 1.7866 - accuracy: 0.2213 - val_loss: 1.7831 - val_accuracy: 0.2917\n",
            "Epoch 4/100\n",
            "17/17 [==============================] - 2s 100ms/step - loss: 1.7826 - accuracy: 0.2380 - val_loss: 1.7787 - val_accuracy: 0.2417\n",
            "Epoch 5/100\n",
            "17/17 [==============================] - 2s 101ms/step - loss: 1.7767 - accuracy: 0.2509 - val_loss: 1.7734 - val_accuracy: 0.2833\n",
            "Epoch 6/100\n",
            "17/17 [==============================] - 2s 99ms/step - loss: 1.7675 - accuracy: 0.2824 - val_loss: 1.7638 - val_accuracy: 0.2417\n",
            "Epoch 7/100\n",
            "17/17 [==============================] - 2s 99ms/step - loss: 1.7559 - accuracy: 0.2870 - val_loss: 1.7507 - val_accuracy: 0.2833\n",
            "Epoch 8/100\n",
            "17/17 [==============================] - 2s 100ms/step - loss: 1.7375 - accuracy: 0.3324 - val_loss: 1.7286 - val_accuracy: 0.3667\n",
            "Epoch 9/100\n",
            "17/17 [==============================] - 2s 100ms/step - loss: 1.7115 - accuracy: 0.3759 - val_loss: 1.7046 - val_accuracy: 0.4250\n",
            "Epoch 10/100\n",
            "17/17 [==============================] - 2s 100ms/step - loss: 1.6795 - accuracy: 0.4130 - val_loss: 1.6735 - val_accuracy: 0.4250\n",
            "Epoch 11/100\n",
            "17/17 [==============================] - 2s 99ms/step - loss: 1.6403 - accuracy: 0.4389 - val_loss: 1.6395 - val_accuracy: 0.4417\n",
            "Epoch 12/100\n",
            "17/17 [==============================] - 2s 100ms/step - loss: 1.5973 - accuracy: 0.4620 - val_loss: 1.6056 - val_accuracy: 0.4750\n",
            "Epoch 13/100\n",
            "17/17 [==============================] - 2s 100ms/step - loss: 1.5536 - accuracy: 0.4787 - val_loss: 1.5716 - val_accuracy: 0.4583\n",
            "Epoch 14/100\n",
            "17/17 [==============================] - 2s 101ms/step - loss: 1.5094 - accuracy: 0.5019 - val_loss: 1.5370 - val_accuracy: 0.4667\n",
            "Epoch 15/100\n",
            "17/17 [==============================] - 2s 100ms/step - loss: 1.4660 - accuracy: 0.5111 - val_loss: 1.5016 - val_accuracy: 0.4750\n",
            "Epoch 16/100\n",
            "17/17 [==============================] - 2s 99ms/step - loss: 1.4249 - accuracy: 0.5250 - val_loss: 1.4675 - val_accuracy: 0.4750\n",
            "Epoch 17/100\n",
            "17/17 [==============================] - 2s 100ms/step - loss: 1.3860 - accuracy: 0.5287 - val_loss: 1.4327 - val_accuracy: 0.4667\n",
            "Epoch 18/100\n",
            "17/17 [==============================] - 2s 100ms/step - loss: 1.3489 - accuracy: 0.5398 - val_loss: 1.3991 - val_accuracy: 0.4583\n",
            "Epoch 19/100\n",
            "17/17 [==============================] - 2s 99ms/step - loss: 1.3137 - accuracy: 0.5463 - val_loss: 1.3651 - val_accuracy: 0.4750\n",
            "Epoch 20/100\n",
            "17/17 [==============================] - 2s 100ms/step - loss: 1.2793 - accuracy: 0.5537 - val_loss: 1.3291 - val_accuracy: 0.5083\n",
            "Epoch 21/100\n",
            "17/17 [==============================] - 2s 100ms/step - loss: 1.2459 - accuracy: 0.5620 - val_loss: 1.2957 - val_accuracy: 0.5083\n",
            "Epoch 22/100\n",
            "17/17 [==============================] - 2s 99ms/step - loss: 1.2142 - accuracy: 0.5759 - val_loss: 1.2620 - val_accuracy: 0.5167\n",
            "Epoch 23/100\n",
            "17/17 [==============================] - 2s 99ms/step - loss: 1.1842 - accuracy: 0.5843 - val_loss: 1.2299 - val_accuracy: 0.5250\n",
            "Epoch 24/100\n",
            "17/17 [==============================] - 2s 101ms/step - loss: 1.1556 - accuracy: 0.5917 - val_loss: 1.1971 - val_accuracy: 0.5250\n",
            "Epoch 25/100\n",
            "17/17 [==============================] - 2s 99ms/step - loss: 1.1284 - accuracy: 0.6009 - val_loss: 1.1680 - val_accuracy: 0.5417\n",
            "Epoch 26/100\n",
            "17/17 [==============================] - 2s 99ms/step - loss: 1.1022 - accuracy: 0.6157 - val_loss: 1.1374 - val_accuracy: 0.5417\n",
            "Epoch 27/100\n",
            "17/17 [==============================] - 2s 99ms/step - loss: 1.0776 - accuracy: 0.6241 - val_loss: 1.1102 - val_accuracy: 0.5500\n",
            "Epoch 28/100\n",
            "17/17 [==============================] - 2s 99ms/step - loss: 1.0536 - accuracy: 0.6250 - val_loss: 1.0824 - val_accuracy: 0.5667\n",
            "Epoch 29/100\n",
            "17/17 [==============================] - 2s 100ms/step - loss: 1.0308 - accuracy: 0.6315 - val_loss: 1.0570 - val_accuracy: 0.5750\n",
            "Epoch 30/100\n",
            "17/17 [==============================] - 2s 99ms/step - loss: 1.0088 - accuracy: 0.6352 - val_loss: 1.0336 - val_accuracy: 0.5917\n",
            "Epoch 31/100\n",
            "17/17 [==============================] - 2s 99ms/step - loss: 0.9878 - accuracy: 0.6454 - val_loss: 1.0095 - val_accuracy: 0.6250\n",
            "Epoch 32/100\n",
            "17/17 [==============================] - 2s 98ms/step - loss: 0.9677 - accuracy: 0.6528 - val_loss: 0.9869 - val_accuracy: 0.6333\n",
            "Epoch 33/100\n",
            "17/17 [==============================] - 2s 101ms/step - loss: 0.9489 - accuracy: 0.6593 - val_loss: 0.9657 - val_accuracy: 0.6333\n",
            "Epoch 34/100\n",
            "17/17 [==============================] - 2s 100ms/step - loss: 0.9309 - accuracy: 0.6704 - val_loss: 0.9457 - val_accuracy: 0.6417\n",
            "Epoch 35/100\n",
            "17/17 [==============================] - 2s 101ms/step - loss: 0.9138 - accuracy: 0.6852 - val_loss: 0.9269 - val_accuracy: 0.6417\n",
            "Epoch 36/100\n",
            "17/17 [==============================] - 2s 101ms/step - loss: 0.8975 - accuracy: 0.6972 - val_loss: 0.9089 - val_accuracy: 0.6500\n",
            "Epoch 37/100\n",
            "17/17 [==============================] - 2s 100ms/step - loss: 0.8818 - accuracy: 0.7028 - val_loss: 0.8918 - val_accuracy: 0.6500\n",
            "Epoch 38/100\n",
            "17/17 [==============================] - 2s 101ms/step - loss: 0.8668 - accuracy: 0.7130 - val_loss: 0.8751 - val_accuracy: 0.6583\n",
            "Epoch 39/100\n",
            "17/17 [==============================] - 2s 100ms/step - loss: 0.8529 - accuracy: 0.7167 - val_loss: 0.8613 - val_accuracy: 0.6583\n",
            "Epoch 40/100\n",
            "17/17 [==============================] - 2s 100ms/step - loss: 0.8392 - accuracy: 0.7222 - val_loss: 0.8462 - val_accuracy: 0.6667\n",
            "Epoch 41/100\n",
            "17/17 [==============================] - 2s 99ms/step - loss: 0.8262 - accuracy: 0.7231 - val_loss: 0.8325 - val_accuracy: 0.6750\n",
            "Epoch 42/100\n",
            "17/17 [==============================] - 2s 101ms/step - loss: 0.8126 - accuracy: 0.7250 - val_loss: 0.8181 - val_accuracy: 0.6750\n",
            "Epoch 43/100\n",
            "17/17 [==============================] - 2s 99ms/step - loss: 0.8005 - accuracy: 0.7315 - val_loss: 0.8057 - val_accuracy: 0.6750\n",
            "Epoch 44/100\n",
            "17/17 [==============================] - 2s 100ms/step - loss: 0.7890 - accuracy: 0.7361 - val_loss: 0.7935 - val_accuracy: 0.6833\n",
            "Epoch 45/100\n",
            "17/17 [==============================] - 2s 101ms/step - loss: 0.7783 - accuracy: 0.7398 - val_loss: 0.7828 - val_accuracy: 0.6917\n",
            "Epoch 46/100\n",
            "17/17 [==============================] - 2s 101ms/step - loss: 0.7676 - accuracy: 0.7454 - val_loss: 0.7718 - val_accuracy: 0.7000\n",
            "Epoch 47/100\n",
            "17/17 [==============================] - 2s 102ms/step - loss: 0.7570 - accuracy: 0.7472 - val_loss: 0.7613 - val_accuracy: 0.7000\n",
            "Epoch 48/100\n",
            "17/17 [==============================] - 2s 101ms/step - loss: 0.7473 - accuracy: 0.7519 - val_loss: 0.7515 - val_accuracy: 0.7167\n",
            "Epoch 49/100\n",
            "17/17 [==============================] - 2s 100ms/step - loss: 0.7380 - accuracy: 0.7537 - val_loss: 0.7432 - val_accuracy: 0.7250\n",
            "Epoch 50/100\n",
            "17/17 [==============================] - 2s 102ms/step - loss: 0.7295 - accuracy: 0.7556 - val_loss: 0.7345 - val_accuracy: 0.7333\n",
            "Epoch 51/100\n",
            "17/17 [==============================] - 2s 101ms/step - loss: 0.7209 - accuracy: 0.7630 - val_loss: 0.7259 - val_accuracy: 0.7417\n",
            "Epoch 52/100\n",
            "17/17 [==============================] - 2s 101ms/step - loss: 0.7125 - accuracy: 0.7685 - val_loss: 0.7181 - val_accuracy: 0.7417\n",
            "Epoch 53/100\n",
            "17/17 [==============================] - 2s 102ms/step - loss: 0.7046 - accuracy: 0.7685 - val_loss: 0.7104 - val_accuracy: 0.7417\n",
            "Epoch 54/100\n",
            "17/17 [==============================] - 2s 100ms/step - loss: 0.6971 - accuracy: 0.7704 - val_loss: 0.7037 - val_accuracy: 0.7417\n",
            "Epoch 55/100\n",
            "17/17 [==============================] - 2s 101ms/step - loss: 0.6896 - accuracy: 0.7722 - val_loss: 0.6970 - val_accuracy: 0.7417\n",
            "Epoch 56/100\n",
            "17/17 [==============================] - 2s 101ms/step - loss: 0.6823 - accuracy: 0.7741 - val_loss: 0.6908 - val_accuracy: 0.7417\n",
            "Epoch 57/100\n",
            "17/17 [==============================] - 2s 102ms/step - loss: 0.6752 - accuracy: 0.7731 - val_loss: 0.6846 - val_accuracy: 0.7417\n",
            "Epoch 58/100\n",
            "17/17 [==============================] - 2s 101ms/step - loss: 0.6681 - accuracy: 0.7759 - val_loss: 0.6787 - val_accuracy: 0.7417\n",
            "Epoch 59/100\n",
            "17/17 [==============================] - 2s 102ms/step - loss: 0.6613 - accuracy: 0.7759 - val_loss: 0.6735 - val_accuracy: 0.7500\n",
            "Epoch 60/100\n",
            "17/17 [==============================] - 2s 102ms/step - loss: 0.6549 - accuracy: 0.7787 - val_loss: 0.6675 - val_accuracy: 0.7583\n",
            "Epoch 61/100\n",
            "17/17 [==============================] - 2s 102ms/step - loss: 0.6482 - accuracy: 0.7796 - val_loss: 0.6622 - val_accuracy: 0.7583\n",
            "Epoch 62/100\n",
            "17/17 [==============================] - 2s 103ms/step - loss: 0.6416 - accuracy: 0.7833 - val_loss: 0.6568 - val_accuracy: 0.7667\n",
            "Epoch 63/100\n",
            "17/17 [==============================] - 2s 102ms/step - loss: 0.6353 - accuracy: 0.7843 - val_loss: 0.6519 - val_accuracy: 0.7667\n",
            "Epoch 64/100\n",
            "17/17 [==============================] - 2s 102ms/step - loss: 0.6293 - accuracy: 0.7880 - val_loss: 0.6467 - val_accuracy: 0.7667\n",
            "Epoch 65/100\n",
            "17/17 [==============================] - 2s 101ms/step - loss: 0.6235 - accuracy: 0.7889 - val_loss: 0.6417 - val_accuracy: 0.7667\n",
            "Epoch 66/100\n",
            "17/17 [==============================] - 2s 101ms/step - loss: 0.6177 - accuracy: 0.7898 - val_loss: 0.6372 - val_accuracy: 0.7667\n",
            "Epoch 67/100\n",
            "17/17 [==============================] - 2s 102ms/step - loss: 0.6122 - accuracy: 0.7898 - val_loss: 0.6328 - val_accuracy: 0.7667\n",
            "Epoch 68/100\n",
            "17/17 [==============================] - 2s 102ms/step - loss: 0.6067 - accuracy: 0.7926 - val_loss: 0.6283 - val_accuracy: 0.7667\n",
            "Epoch 69/100\n",
            "17/17 [==============================] - 2s 101ms/step - loss: 0.6013 - accuracy: 0.7935 - val_loss: 0.6244 - val_accuracy: 0.7750\n",
            "Epoch 70/100\n",
            "17/17 [==============================] - 2s 102ms/step - loss: 0.5959 - accuracy: 0.7963 - val_loss: 0.6204 - val_accuracy: 0.7667\n",
            "Epoch 71/100\n",
            "17/17 [==============================] - 2s 102ms/step - loss: 0.5906 - accuracy: 0.7963 - val_loss: 0.6162 - val_accuracy: 0.7667\n",
            "Epoch 72/100\n",
            "17/17 [==============================] - 2s 102ms/step - loss: 0.5855 - accuracy: 0.8009 - val_loss: 0.6123 - val_accuracy: 0.7667\n",
            "Epoch 73/100\n",
            "17/17 [==============================] - 2s 102ms/step - loss: 0.5806 - accuracy: 0.8028 - val_loss: 0.6084 - val_accuracy: 0.7667\n",
            "Epoch 74/100\n",
            "17/17 [==============================] - 2s 102ms/step - loss: 0.5759 - accuracy: 0.8037 - val_loss: 0.6050 - val_accuracy: 0.7750\n",
            "Epoch 75/100\n",
            "17/17 [==============================] - 2s 101ms/step - loss: 0.5711 - accuracy: 0.8046 - val_loss: 0.6016 - val_accuracy: 0.7750\n",
            "Epoch 76/100\n",
            "17/17 [==============================] - 2s 101ms/step - loss: 0.5665 - accuracy: 0.8083 - val_loss: 0.5982 - val_accuracy: 0.7750\n",
            "Epoch 77/100\n",
            "17/17 [==============================] - 2s 100ms/step - loss: 0.5618 - accuracy: 0.8102 - val_loss: 0.5952 - val_accuracy: 0.7750\n",
            "Epoch 78/100\n",
            "17/17 [==============================] - 2s 101ms/step - loss: 0.5572 - accuracy: 0.8111 - val_loss: 0.5921 - val_accuracy: 0.7750\n",
            "Epoch 79/100\n",
            "17/17 [==============================] - 2s 100ms/step - loss: 0.5527 - accuracy: 0.8157 - val_loss: 0.5890 - val_accuracy: 0.7750\n",
            "Epoch 80/100\n",
            "17/17 [==============================] - 2s 101ms/step - loss: 0.5486 - accuracy: 0.8167 - val_loss: 0.5858 - val_accuracy: 0.7750\n",
            "Epoch 81/100\n",
            "17/17 [==============================] - 2s 102ms/step - loss: 0.5442 - accuracy: 0.8194 - val_loss: 0.5828 - val_accuracy: 0.7750\n",
            "Epoch 82/100\n",
            "17/17 [==============================] - 2s 101ms/step - loss: 0.5399 - accuracy: 0.8250 - val_loss: 0.5800 - val_accuracy: 0.7750\n",
            "Epoch 83/100\n",
            "17/17 [==============================] - 2s 100ms/step - loss: 0.5356 - accuracy: 0.8259 - val_loss: 0.5776 - val_accuracy: 0.7750\n",
            "Epoch 84/100\n",
            "17/17 [==============================] - 2s 102ms/step - loss: 0.5315 - accuracy: 0.8259 - val_loss: 0.5752 - val_accuracy: 0.7750\n",
            "Epoch 85/100\n",
            "17/17 [==============================] - 2s 101ms/step - loss: 0.5273 - accuracy: 0.8306 - val_loss: 0.5729 - val_accuracy: 0.7750\n",
            "Epoch 86/100\n",
            "17/17 [==============================] - 2s 102ms/step - loss: 0.5230 - accuracy: 0.8315 - val_loss: 0.5705 - val_accuracy: 0.7750\n",
            "Epoch 87/100\n",
            "17/17 [==============================] - 2s 100ms/step - loss: 0.5188 - accuracy: 0.8333 - val_loss: 0.5684 - val_accuracy: 0.7750\n",
            "Epoch 88/100\n",
            "17/17 [==============================] - 2s 102ms/step - loss: 0.5146 - accuracy: 0.8370 - val_loss: 0.5659 - val_accuracy: 0.7667\n",
            "Epoch 89/100\n",
            "17/17 [==============================] - 2s 101ms/step - loss: 0.5107 - accuracy: 0.8380 - val_loss: 0.5635 - val_accuracy: 0.7667\n",
            "Epoch 90/100\n",
            "17/17 [==============================] - 2s 101ms/step - loss: 0.5068 - accuracy: 0.8407 - val_loss: 0.5617 - val_accuracy: 0.7750\n",
            "Epoch 91/100\n",
            "17/17 [==============================] - 2s 101ms/step - loss: 0.5030 - accuracy: 0.8398 - val_loss: 0.5602 - val_accuracy: 0.7750\n",
            "Epoch 92/100\n",
            "17/17 [==============================] - 2s 102ms/step - loss: 0.4994 - accuracy: 0.8407 - val_loss: 0.5582 - val_accuracy: 0.7750\n",
            "Epoch 93/100\n",
            "17/17 [==============================] - 2s 102ms/step - loss: 0.4958 - accuracy: 0.8407 - val_loss: 0.5562 - val_accuracy: 0.7750\n",
            "Epoch 94/100\n",
            "17/17 [==============================] - 2s 102ms/step - loss: 0.4923 - accuracy: 0.8435 - val_loss: 0.5543 - val_accuracy: 0.7750\n",
            "Epoch 95/100\n",
            "17/17 [==============================] - 2s 102ms/step - loss: 0.4886 - accuracy: 0.8463 - val_loss: 0.5524 - val_accuracy: 0.7833\n",
            "Epoch 96/100\n",
            "17/17 [==============================] - 2s 101ms/step - loss: 0.4850 - accuracy: 0.8481 - val_loss: 0.5504 - val_accuracy: 0.7833\n",
            "Epoch 97/100\n",
            "17/17 [==============================] - 2s 102ms/step - loss: 0.4815 - accuracy: 0.8500 - val_loss: 0.5481 - val_accuracy: 0.7833\n",
            "Epoch 98/100\n",
            "17/17 [==============================] - 2s 101ms/step - loss: 0.4780 - accuracy: 0.8528 - val_loss: 0.5463 - val_accuracy: 0.7917\n",
            "Epoch 99/100\n",
            "17/17 [==============================] - 2s 102ms/step - loss: 0.4746 - accuracy: 0.8537 - val_loss: 0.5444 - val_accuracy: 0.7917\n",
            "Epoch 100/100\n",
            "17/17 [==============================] - 2s 101ms/step - loss: 0.4713 - accuracy: 0.8537 - val_loss: 0.5426 - val_accuracy: 0.7917\n"
          ]
        }
      ]
    },
    {
      "cell_type": "markdown",
      "metadata": {
        "id": "GBA0j8QZioAi"
      },
      "source": [
        "- History Object"
      ]
    },
    {
      "cell_type": "code",
      "metadata": {
        "colab": {
          "base_uri": "https://localhost:8080/"
        },
        "id": "PUT-LQ-_irfZ",
        "outputId": "00d9d1b1-63f8-48e0-e067-00861c20fe9b"
      },
      "source": [
        "history.history"
      ],
      "execution_count": 11,
      "outputs": [
        {
          "output_type": "execute_result",
          "data": {
            "text/plain": [
              "{'accuracy': [0.15648147463798523,\n",
              "  0.17407406866550446,\n",
              "  0.2212962955236435,\n",
              "  0.23796296119689941,\n",
              "  0.2509259283542633,\n",
              "  0.28240740299224854,\n",
              "  0.28703704476356506,\n",
              "  0.3324074149131775,\n",
              "  0.3759259283542633,\n",
              "  0.41296297311782837,\n",
              "  0.43888887763023376,\n",
              "  0.46203702688217163,\n",
              "  0.47870370745658875,\n",
              "  0.5018518567085266,\n",
              "  0.5111111402511597,\n",
              "  0.5249999761581421,\n",
              "  0.5287036895751953,\n",
              "  0.539814829826355,\n",
              "  0.5462962985038757,\n",
              "  0.5537037253379822,\n",
              "  0.5620370507240295,\n",
              "  0.5759259462356567,\n",
              "  0.5842592716217041,\n",
              "  0.5916666388511658,\n",
              "  0.6009259223937988,\n",
              "  0.6157407164573669,\n",
              "  0.6240741014480591,\n",
              "  0.625,\n",
              "  0.6314814686775208,\n",
              "  0.635185182094574,\n",
              "  0.645370364189148,\n",
              "  0.6527777910232544,\n",
              "  0.6592592597007751,\n",
              "  0.6703703999519348,\n",
              "  0.6851851940155029,\n",
              "  0.6972222328186035,\n",
              "  0.7027778029441833,\n",
              "  0.7129629850387573,\n",
              "  0.7166666388511658,\n",
              "  0.7222222089767456,\n",
              "  0.7231481671333313,\n",
              "  0.7250000238418579,\n",
              "  0.7314814925193787,\n",
              "  0.7361111044883728,\n",
              "  0.739814817905426,\n",
              "  0.7453703880310059,\n",
              "  0.7472222447395325,\n",
              "  0.7518518567085266,\n",
              "  0.7537037134170532,\n",
              "  0.7555555701255798,\n",
              "  0.7629629373550415,\n",
              "  0.7685185074806213,\n",
              "  0.7685185074806213,\n",
              "  0.770370364189148,\n",
              "  0.7722222208976746,\n",
              "  0.7740740776062012,\n",
              "  0.7731481194496155,\n",
              "  0.7759259343147278,\n",
              "  0.7759259343147278,\n",
              "  0.7787036895751953,\n",
              "  0.779629647731781,\n",
              "  0.7833333611488342,\n",
              "  0.7842592597007751,\n",
              "  0.7879629731178284,\n",
              "  0.7888888716697693,\n",
              "  0.789814829826355,\n",
              "  0.789814829826355,\n",
              "  0.7925925850868225,\n",
              "  0.7935185432434082,\n",
              "  0.7962962985038757,\n",
              "  0.7962962985038757,\n",
              "  0.8009259104728699,\n",
              "  0.8027777671813965,\n",
              "  0.8037037253379822,\n",
              "  0.8046296238899231,\n",
              "  0.8083333373069763,\n",
              "  0.8101851940155029,\n",
              "  0.8111110925674438,\n",
              "  0.8157407641410828,\n",
              "  0.8166666626930237,\n",
              "  0.8194444179534912,\n",
              "  0.824999988079071,\n",
              "  0.8259259462356567,\n",
              "  0.8259259462356567,\n",
              "  0.8305555582046509,\n",
              "  0.8314814567565918,\n",
              "  0.8333333134651184,\n",
              "  0.8370370268821716,\n",
              "  0.8379629850387573,\n",
              "  0.8407407402992249,\n",
              "  0.8398148417472839,\n",
              "  0.8407407402992249,\n",
              "  0.8407407402992249,\n",
              "  0.8435184955596924,\n",
              "  0.8462963104248047,\n",
              "  0.8481481671333313,\n",
              "  0.8500000238418579,\n",
              "  0.8527777791023254,\n",
              "  0.8537036776542664,\n",
              "  0.8537036776542664],\n",
              " 'loss': [1.8070014715194702,\n",
              "  1.7900187969207764,\n",
              "  1.7865715026855469,\n",
              "  1.782612919807434,\n",
              "  1.776698350906372,\n",
              "  1.767482876777649,\n",
              "  1.7558910846710205,\n",
              "  1.737463116645813,\n",
              "  1.7114866971969604,\n",
              "  1.6794517040252686,\n",
              "  1.6402620077133179,\n",
              "  1.5972709655761719,\n",
              "  1.553607702255249,\n",
              "  1.5093650817871094,\n",
              "  1.46601402759552,\n",
              "  1.4248924255371094,\n",
              "  1.3860490322113037,\n",
              "  1.3488717079162598,\n",
              "  1.3137460947036743,\n",
              "  1.2792624235153198,\n",
              "  1.2459229230880737,\n",
              "  1.2141746282577515,\n",
              "  1.1842408180236816,\n",
              "  1.1555840969085693,\n",
              "  1.1283894777297974,\n",
              "  1.1022467613220215,\n",
              "  1.0776116847991943,\n",
              "  1.0536367893218994,\n",
              "  1.0307751893997192,\n",
              "  1.0088112354278564,\n",
              "  0.9877632260322571,\n",
              "  0.9676805138587952,\n",
              "  0.9489350318908691,\n",
              "  0.9308913350105286,\n",
              "  0.9137520790100098,\n",
              "  0.8975494503974915,\n",
              "  0.881804883480072,\n",
              "  0.8667636513710022,\n",
              "  0.8529248833656311,\n",
              "  0.8391848802566528,\n",
              "  0.8262492418289185,\n",
              "  0.8126270174980164,\n",
              "  0.8004741072654724,\n",
              "  0.7890198230743408,\n",
              "  0.7782791256904602,\n",
              "  0.7675731778144836,\n",
              "  0.7570310831069946,\n",
              "  0.747313916683197,\n",
              "  0.7379906177520752,\n",
              "  0.7294700741767883,\n",
              "  0.7209495902061462,\n",
              "  0.7125325798988342,\n",
              "  0.7046152949333191,\n",
              "  0.6971101760864258,\n",
              "  0.6896253824234009,\n",
              "  0.6822540163993835,\n",
              "  0.6751587390899658,\n",
              "  0.6680657863616943,\n",
              "  0.6612939238548279,\n",
              "  0.654850959777832,\n",
              "  0.6482025384902954,\n",
              "  0.6415848135948181,\n",
              "  0.6353253126144409,\n",
              "  0.6293319463729858,\n",
              "  0.6234642863273621,\n",
              "  0.6176764965057373,\n",
              "  0.6121800541877747,\n",
              "  0.6066902279853821,\n",
              "  0.6013268828392029,\n",
              "  0.5958806276321411,\n",
              "  0.5906473994255066,\n",
              "  0.5855488181114197,\n",
              "  0.5805968046188354,\n",
              "  0.5758578777313232,\n",
              "  0.5711149573326111,\n",
              "  0.5664636492729187,\n",
              "  0.5617668032646179,\n",
              "  0.5572352409362793,\n",
              "  0.5527329444885254,\n",
              "  0.5485581755638123,\n",
              "  0.5441921949386597,\n",
              "  0.5398960113525391,\n",
              "  0.5356142520904541,\n",
              "  0.5315160751342773,\n",
              "  0.527252197265625,\n",
              "  0.5229939818382263,\n",
              "  0.5187576413154602,\n",
              "  0.5145878195762634,\n",
              "  0.5106582045555115,\n",
              "  0.5068145394325256,\n",
              "  0.5029629468917847,\n",
              "  0.49940648674964905,\n",
              "  0.4957643151283264,\n",
              "  0.49226826429367065,\n",
              "  0.48856863379478455,\n",
              "  0.48498275876045227,\n",
              "  0.4815218448638916,\n",
              "  0.4780081808567047,\n",
              "  0.4745577871799469,\n",
              "  0.4712757468223572],\n",
              " 'val_accuracy': [0.1666666716337204,\n",
              "  0.25833332538604736,\n",
              "  0.2916666567325592,\n",
              "  0.24166665971279144,\n",
              "  0.28333333134651184,\n",
              "  0.24166665971279144,\n",
              "  0.28333333134651184,\n",
              "  0.36666667461395264,\n",
              "  0.42500001192092896,\n",
              "  0.42500001192092896,\n",
              "  0.4416666626930237,\n",
              "  0.4749999940395355,\n",
              "  0.4583333432674408,\n",
              "  0.46666666865348816,\n",
              "  0.4749999940395355,\n",
              "  0.4749999940395355,\n",
              "  0.46666666865348816,\n",
              "  0.4583333432674408,\n",
              "  0.4749999940395355,\n",
              "  0.5083333253860474,\n",
              "  0.5083333253860474,\n",
              "  0.5166666507720947,\n",
              "  0.5249999761581421,\n",
              "  0.5249999761581421,\n",
              "  0.5416666865348816,\n",
              "  0.5416666865348816,\n",
              "  0.550000011920929,\n",
              "  0.5666666626930237,\n",
              "  0.574999988079071,\n",
              "  0.5916666388511658,\n",
              "  0.625,\n",
              "  0.6333333253860474,\n",
              "  0.6333333253860474,\n",
              "  0.6416666507720947,\n",
              "  0.6416666507720947,\n",
              "  0.6499999761581421,\n",
              "  0.6499999761581421,\n",
              "  0.6583333611488342,\n",
              "  0.6583333611488342,\n",
              "  0.6666666865348816,\n",
              "  0.675000011920929,\n",
              "  0.675000011920929,\n",
              "  0.675000011920929,\n",
              "  0.6833333373069763,\n",
              "  0.6916666626930237,\n",
              "  0.699999988079071,\n",
              "  0.699999988079071,\n",
              "  0.7166666388511658,\n",
              "  0.7250000238418579,\n",
              "  0.7333333492279053,\n",
              "  0.7416666746139526,\n",
              "  0.7416666746139526,\n",
              "  0.7416666746139526,\n",
              "  0.7416666746139526,\n",
              "  0.7416666746139526,\n",
              "  0.7416666746139526,\n",
              "  0.7416666746139526,\n",
              "  0.7416666746139526,\n",
              "  0.75,\n",
              "  0.7583333253860474,\n",
              "  0.7583333253860474,\n",
              "  0.7666666507720947,\n",
              "  0.7666666507720947,\n",
              "  0.7666666507720947,\n",
              "  0.7666666507720947,\n",
              "  0.7666666507720947,\n",
              "  0.7666666507720947,\n",
              "  0.7666666507720947,\n",
              "  0.7749999761581421,\n",
              "  0.7666666507720947,\n",
              "  0.7666666507720947,\n",
              "  0.7666666507720947,\n",
              "  0.7666666507720947,\n",
              "  0.7749999761581421,\n",
              "  0.7749999761581421,\n",
              "  0.7749999761581421,\n",
              "  0.7749999761581421,\n",
              "  0.7749999761581421,\n",
              "  0.7749999761581421,\n",
              "  0.7749999761581421,\n",
              "  0.7749999761581421,\n",
              "  0.7749999761581421,\n",
              "  0.7749999761581421,\n",
              "  0.7749999761581421,\n",
              "  0.7749999761581421,\n",
              "  0.7749999761581421,\n",
              "  0.7749999761581421,\n",
              "  0.7666666507720947,\n",
              "  0.7666666507720947,\n",
              "  0.7749999761581421,\n",
              "  0.7749999761581421,\n",
              "  0.7749999761581421,\n",
              "  0.7749999761581421,\n",
              "  0.7749999761581421,\n",
              "  0.7833333611488342,\n",
              "  0.7833333611488342,\n",
              "  0.7833333611488342,\n",
              "  0.7916666865348816,\n",
              "  0.7916666865348816,\n",
              "  0.7916666865348816],\n",
              " 'val_loss': [1.790225863456726,\n",
              "  1.785627007484436,\n",
              "  1.7830982208251953,\n",
              "  1.7787034511566162,\n",
              "  1.773437738418579,\n",
              "  1.763799786567688,\n",
              "  1.7506977319717407,\n",
              "  1.7285889387130737,\n",
              "  1.7045615911483765,\n",
              "  1.673547625541687,\n",
              "  1.6394805908203125,\n",
              "  1.6056047677993774,\n",
              "  1.5715863704681396,\n",
              "  1.536980390548706,\n",
              "  1.5016138553619385,\n",
              "  1.4674557447433472,\n",
              "  1.4326927661895752,\n",
              "  1.399095892906189,\n",
              "  1.3650647401809692,\n",
              "  1.3290717601776123,\n",
              "  1.2957125902175903,\n",
              "  1.2619835138320923,\n",
              "  1.2299237251281738,\n",
              "  1.1971042156219482,\n",
              "  1.1679878234863281,\n",
              "  1.1374304294586182,\n",
              "  1.1102055311203003,\n",
              "  1.0823713541030884,\n",
              "  1.0570225715637207,\n",
              "  1.0336356163024902,\n",
              "  1.0094966888427734,\n",
              "  0.9868944883346558,\n",
              "  0.965748131275177,\n",
              "  0.9456901550292969,\n",
              "  0.9269154667854309,\n",
              "  0.9089403748512268,\n",
              "  0.8917532563209534,\n",
              "  0.8751039505004883,\n",
              "  0.8613337278366089,\n",
              "  0.8461968898773193,\n",
              "  0.832512617111206,\n",
              "  0.8181484341621399,\n",
              "  0.8057364225387573,\n",
              "  0.7935316562652588,\n",
              "  0.7827762365341187,\n",
              "  0.7717786431312561,\n",
              "  0.7613208889961243,\n",
              "  0.7515150308609009,\n",
              "  0.7431803345680237,\n",
              "  0.734505832195282,\n",
              "  0.7259171605110168,\n",
              "  0.7181050777435303,\n",
              "  0.7104082703590393,\n",
              "  0.7036778926849365,\n",
              "  0.6970214247703552,\n",
              "  0.6908349990844727,\n",
              "  0.6846243739128113,\n",
              "  0.6787359714508057,\n",
              "  0.673464834690094,\n",
              "  0.6675488948822021,\n",
              "  0.662221372127533,\n",
              "  0.656829833984375,\n",
              "  0.6519116759300232,\n",
              "  0.6467103958129883,\n",
              "  0.6416629552841187,\n",
              "  0.6372310519218445,\n",
              "  0.6328340172767639,\n",
              "  0.6283349394798279,\n",
              "  0.6243593692779541,\n",
              "  0.6203769445419312,\n",
              "  0.6162422299385071,\n",
              "  0.6123311519622803,\n",
              "  0.6084020137786865,\n",
              "  0.6049755215644836,\n",
              "  0.6016058325767517,\n",
              "  0.5982195734977722,\n",
              "  0.5952068567276001,\n",
              "  0.5921414494514465,\n",
              "  0.588959276676178,\n",
              "  0.5858185887336731,\n",
              "  0.5827805399894714,\n",
              "  0.5799834728240967,\n",
              "  0.5775938630104065,\n",
              "  0.57521653175354,\n",
              "  0.5728548169136047,\n",
              "  0.5705106258392334,\n",
              "  0.5684239268302917,\n",
              "  0.565911591053009,\n",
              "  0.5635241270065308,\n",
              "  0.5617288947105408,\n",
              "  0.5602474808692932,\n",
              "  0.5582417249679565,\n",
              "  0.5562074184417725,\n",
              "  0.5543050169944763,\n",
              "  0.5524237751960754,\n",
              "  0.5503944158554077,\n",
              "  0.5481272339820862,\n",
              "  0.5462740063667297,\n",
              "  0.5444458723068237,\n",
              "  0.5426368713378906]}"
            ]
          },
          "metadata": {},
          "execution_count": 11
        }
      ]
    },
    {
      "cell_type": "markdown",
      "metadata": {
        "id": "ucci1v0KjRsg"
      },
      "source": [
        "- Let's visualize the loss over time"
      ]
    },
    {
      "cell_type": "code",
      "metadata": {
        "colab": {
          "base_uri": "https://localhost:8080/",
          "height": 1000
        },
        "id": "yGX7ot23jWFa",
        "outputId": "6248312d-ec2e-43cf-cced-75b4b46e3a56"
      },
      "source": [
        "df_loss_acc = pd.DataFrame(history.history)\n",
        "df_loss= df_loss_acc[['loss','val_loss']]\n",
        "df_loss.rename(columns={'loss':'train','val_loss':'validation'},inplace=True)\n",
        "df_acc= df_loss_acc[['accuracy','val_accuracy']]\n",
        "df_acc.rename(columns={'accuracy':'train','val_accuracy':'validation'},inplace=True)\n",
        "df_loss.plot(title='Model loss',figsize=(12,8)).set(xlabel='Epoch',ylabel='Loss')\n",
        "df_acc.plot(title='Model Accuracy',figsize=(12,8)).set(xlabel='Epoch',ylabel='Accuracy')"
      ],
      "execution_count": 12,
      "outputs": [
        {
          "output_type": "stream",
          "name": "stderr",
          "text": [
            "/usr/local/lib/python3.7/dist-packages/pandas/core/frame.py:4308: SettingWithCopyWarning: \n",
            "A value is trying to be set on a copy of a slice from a DataFrame\n",
            "\n",
            "See the caveats in the documentation: https://pandas.pydata.org/pandas-docs/stable/user_guide/indexing.html#returning-a-view-versus-a-copy\n",
            "  errors=errors,\n"
          ]
        },
        {
          "output_type": "execute_result",
          "data": {
            "text/plain": [
              "[Text(0, 0.5, 'Accuracy'), Text(0.5, 0, 'Epoch')]"
            ]
          },
          "metadata": {},
          "execution_count": 12
        },
        {
          "output_type": "display_data",
          "data": {
            "image/png": "[encoded data removed]",
            "text/plain": [
              "<Figure size 864x576 with 1 Axes>"
            ]
          },
          "metadata": {
            "needs_background": "light"
          }
        },
        {
          "output_type": "display_data",
          "data": {
            "image/png": "[encoded data removed]",
            "text/plain": [
              "<Figure size 864x576 with 1 Axes>"
            ]
          },
          "metadata": {
            "needs_background": "light"
          }
        }
      ]
    }
  ]
}