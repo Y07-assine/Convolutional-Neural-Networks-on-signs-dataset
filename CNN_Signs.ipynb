{
  "nbformat": 4,
  "nbformat_minor": 0,
  "metadata": {
    "colab": {
      "name": "CNN-Signs.ipynb",
      "provenance": [],
      "authorship_tag": "ABX9TyM502se1TpMrWtNUeaz6fLg",
      "include_colab_link": true
    },
    "kernelspec": {
      "name": "python3",
      "display_name": "Python 3"
    },
    "language_info": {
      "name": "python"
    }
  },
  "cells": [
    {
      "cell_type": "markdown",
      "metadata": {
        "id": "view-in-github",
        "colab_type": "text"
      },
      "source": [
        "<a href=\"https://colab.research.google.com/github/Y07-assine/Convolutional-Neural-Networks-on-signs-dataset/blob/main/CNN_Signs.ipynb\" target=\"_parent\"><img src=\"https://colab.research.google.com/assets/colab-badge.svg\" alt=\"Open In Colab\"/></a>"
      ]
    },
    {
      "cell_type": "markdown",
      "metadata": {
        "id": "POUtTsstgdMd"
      },
      "source": [
        "#Convolutional Neural Networks on signs dataset"
      ]
    },
    {
      "cell_type": "markdown",
      "metadata": {
        "id": "dK_zeCfjgvks"
      },
      "source": [
        "Import the needed packages"
      ]
    },
    {
      "cell_type": "code",
      "metadata": {
        "id": "i7p5n7GvgJLe"
      },
      "source": [
        "import math\n",
        "import numpy as np\n",
        "import h5py\n",
        "import matplotlib.pyplot as plt\n",
        "import scipy\n",
        "from PIL import Image\n",
        "from scipy import ndimage\n",
        "import tensorflow as tf\n",
        "from tensorflow.python.framework import ops\n",
        "\n",
        "%matplotlib inline\n",
        "np.random.seed(1)"
      ],
      "execution_count": 14,
      "outputs": []
    },
    {
      "cell_type": "markdown",
      "metadata": {
        "id": "yvlW-MVfhKTD"
      },
      "source": [
        "Import the 'Signs' dataset"
      ]
    },
    {
      "cell_type": "code",
      "metadata": {
        "id": "gblA-jkNhSIL"
      },
      "source": [
        "def load_dataset():\n",
        "    train_dataset = h5py.File('/content/train_signs.h5', \"r\")\n",
        "    train_set_x_orig = np.array(train_dataset[\"train_set_x\"][:]) # your train set features\n",
        "    train_set_y_orig = np.array(train_dataset[\"train_set_y\"][:]) # your train set labels\n",
        "\n",
        "    test_dataset = h5py.File('/content/test_signs.h5', \"r\")\n",
        "    test_set_x_orig = np.array(test_dataset[\"test_set_x\"][:]) # your test set features\n",
        "    test_set_y_orig = np.array(test_dataset[\"test_set_y\"][:]) # your test set labels\n",
        "\n",
        "    classes = np.array(test_dataset[\"list_classes\"][:]) # the list of classes\n",
        "    \n",
        "    train_set_y_orig = train_set_y_orig.reshape((1, train_set_y_orig.shape[0]))\n",
        "    test_set_y_orig = test_set_y_orig.reshape((1, test_set_y_orig.shape[0]))\n",
        "    \n",
        "    return train_set_x_orig, train_set_y_orig, test_set_x_orig, test_set_y_orig, classes"
      ],
      "execution_count": 15,
      "outputs": []
    },
    {
      "cell_type": "markdown",
      "metadata": {
        "id": "oo31pxb-h_2i"
      },
      "source": [
        "load the dataset"
      ]
    },
    {
      "cell_type": "code",
      "metadata": {
        "id": "eyhzo2LuiGzL"
      },
      "source": [
        "X_train_orig, Y_train_orig, X_test_orig, Y_test_orig, classes = load_dataset()"
      ],
      "execution_count": 16,
      "outputs": []
    },
    {
      "cell_type": "markdown",
      "metadata": {
        "id": "aLR9HjmqiOmR"
      },
      "source": [
        "**The SIGNS dataset is a collection of 6 signs representing numbers from 0 to 5.**"
      ]
    },
    {
      "cell_type": "markdown",
      "metadata": {
        "id": "bKtOSudriSdR"
      },
      "source": [
        "let's show an example of a labelled image in the dataset"
      ]
    },
    {
      "cell_type": "code",
      "metadata": {
        "colab": {
          "base_uri": "https://localhost:8080/",
          "height": 285
        },
        "id": "6tEVvNGYifJS",
        "outputId": "58edcb31-80a2-4fd5-e238-230fec705e00"
      },
      "source": [
        "index = 6\n",
        "plt.imshow(X_train_orig[index])\n",
        "print (\"y = \" + str(np.squeeze(Y_train_orig[:, index])))"
      ],
      "execution_count": 17,
      "outputs": [
        {
          "output_type": "stream",
          "name": "stdout",
          "text": [
            "y = 2\n"
          ]
        },
        {
          "output_type": "display_data",
          "data": {
            "image/png": "[encoded data removed]",
            "text/plain": [
              "<Figure size 432x288 with 1 Axes>"
            ]
          },
          "metadata": {
            "needs_background": "light"
          }
        }
      ]
    },
    {
      "cell_type": "markdown",
      "metadata": {
        "id": "hPOJ8S_3in1p"
      },
      "source": [
        "Examine the shapes of our data"
      ]
    },
    {
      "cell_type": "code",
      "metadata": {
        "colab": {
          "base_uri": "https://localhost:8080/"
        },
        "id": "FgEWW6SuisC5",
        "outputId": "ff3dc453-95b1-4d7b-ed4a-931ebd485af8"
      },
      "source": [
        "X_train = X_train_orig/255.\n",
        "X_test = X_test_orig/255.\n",
        "Y_train = np.eye(6)[Y_train_orig.reshape(-1)]\n",
        "Y_test = np.eye(6)[Y_test_orig.reshape(-1)]\n",
        "print (\"number of training examples = \" + str(X_train.shape[0]))\n",
        "print (\"number of test examples = \" + str(X_test.shape[0]))\n",
        "print (\"X_train shape: \" + str(X_train.shape))\n",
        "print (\"Y_train shape: \" + str(Y_train.shape))\n",
        "print (\"X_test shape: \" + str(X_test.shape))\n",
        "print (\"Y_test shape: \" + str(Y_test.shape))\n",
        "conv_layers = {}"
      ],
      "execution_count": 18,
      "outputs": [
        {
          "output_type": "stream",
          "name": "stdout",
          "text": [
            "number of training examples = 1080\n",
            "number of test examples = 120\n",
            "X_train shape: (1080, 64, 64, 3)\n",
            "Y_train shape: (1080, 6)\n",
            "X_test shape: (120, 64, 64, 3)\n",
            "Y_test shape: (120, 6)\n"
          ]
        }
      ]
    },
    {
      "cell_type": "markdown",
      "metadata": {
        "id": "mBq95Otpk_n2"
      },
      "source": [
        "Initializes weight parameters to build a neural network with tensorflow. The shapes are:\n",
        "                        W1 : [4, 4, 3, 8]\n",
        "                        W2 : [2, 2, 8, 16]\n"
      ]
    },
    {
      "cell_type": "code",
      "metadata": {
        "id": "xWaIO04HlA2l"
      },
      "source": [
        "def initialize_parameters():\n",
        "    W1 = tf.Variable(tf.random.truncated_normal([4, 4, 3, 8], stddev=0.1, seed=0))\n",
        "    W2 = tf.Variable(tf.random.truncated_normal([2, 2, 8, 16], stddev=0.1, seed=1))\n",
        "    W3 = tf.Variable(tf.random.truncated_normal([2*2*16, 6], stddev=0.1, seed=2))\n",
        "\n",
        "    parameters = [W1,\n",
        "                   W2,\n",
        "                  W3]\n",
        "    \n",
        "    return parameters"
      ],
      "execution_count": 19,
      "outputs": []
    },
    {
      "cell_type": "code",
      "metadata": {
        "colab": {
          "base_uri": "https://localhost:8080/"
        },
        "id": "4mBRhK04lcDV",
        "outputId": "56717633-e454-437a-93af-95377467585b"
      },
      "source": [
        "parameters = initialize_parameters()\n",
        "print(\"W1[1,1,1] = \\n\" + str(parameters[0][1,1,1]))\n",
        "print(\"W1.shape: \" + str(parameters[0].shape))\n",
        "print(\"\\n\")\n",
        "print(\"W2[1,1,1] = \\n\" + str(parameters[1][1,1,1]))\n",
        "print(\"W2.shape: \" + str(parameters[1].shape))"
      ],
      "execution_count": 20,
      "outputs": [
        {
          "output_type": "stream",
          "name": "stdout",
          "text": [
            "W1[1,1,1] = \n",
            "tf.Tensor(\n",
            "[ 0.1447671  -0.05414319  0.13151479  0.13970079  0.05702114  0.06457475\n",
            "  0.01114161  0.00709099], shape=(8,), dtype=float32)\n",
            "W1.shape: (4, 4, 3, 8)\n",
            "\n",
            "\n",
            "W2[1,1,1] = \n",
            "tf.Tensor(\n",
            "[-0.12470769  0.19388527  0.01390898  0.01152461 -0.0065414   0.04360773\n",
            "  0.0847746   0.05029554  0.04475504 -0.0030829  -0.06812374  0.10264163\n",
            "  0.19581345  0.02180766 -0.16781066  0.04616431], shape=(16,), dtype=float32)\n",
            "W2.shape: (2, 2, 8, 16)\n"
          ]
        }
      ]
    },
    {
      "cell_type": "markdown",
      "metadata": {
        "id": "Pbhp2qkUlslN"
      },
      "source": [
        "Implement the forward_propagation function below to build the following model: CONV2D -> RELU -> MAXPOOL -> CONV2D -> RELU -> MAXPOOL -> FLATTEN -> FULLYCONNECTED. You should use the functions above.\n",
        "\n",
        "In detail, we will use the following parameters for all the steps:\n",
        "\n",
        "- Conv2D: stride 1, padding is \"SAME\"\n",
        "- ReLU\n",
        "- Max pool: Use an 8 by 8 filter size and an 8 by 8 stride, padding is \"SAME\"\n",
        "- Conv2D: stride 1, padding is \"SAME\"\n",
        "- ReLU\n",
        "- Max pool: Use a 4 by 4 filter size and a 4 by 4 stride, padding is \"SAME\"\n",
        "- Flatten the previous output.\n",
        "- FULLYCONNECTED (FC) layer: Apply a fully connected layer without an non-linear activation function. Do not call the softmax here. This will result in 6 neurons in the output layer, which then get passed later to a softmax. In TensorFlow, the softmax and cost function are lumped together into a single function, which you'll call in a different function when computing the cost."
      ]
    },
    {
      "cell_type": "code",
      "metadata": {
        "id": "8UXL4SkSl0R0"
      },
      "source": [
        "def forward_propagation(X, parameters):\n",
        "\n",
        "  W1 = parameters[0]\n",
        "  W2 = parameters[1]\n",
        "  W3 = parameters[2]\n",
        "\n",
        "  \n",
        "  #convolutional layer 1\n",
        "  Z1 = tf.nn.conv2d(X,W1,strides=[1,1,1,1],padding='SAME')\n",
        "  #Apply the ReLU activation Function\n",
        "  A1 = tf.nn.relu(Z1)                                                         \n",
        "  #Apply the max pooling  \n",
        "  P1 = tf.nn.max_pool(A1, ksize=[1,8,8,1],strides=[1,8,8,1],padding='SAME')  \n",
        "\n",
        "  #convolutional layer 2\n",
        "  Z2 = tf.nn.conv2d(P1,W2,strides=[1,1,1,1],padding='SAME')\n",
        "  #Apply the ReLU activation Function\n",
        "  A2 = tf.nn.relu(Z2)                                                         \n",
        "  #Apply the max pooling  \n",
        "  P2 = tf.nn.max_pool(A2, ksize=[1,4,4,1],strides=[1,4,4,1],padding='SAME')  \n",
        "  #Fully Connected Layer\n",
        "  #Flattening Second Layer\n",
        "  F1 = tf.reshape(P2,[-1,2*2*16])\n",
        "  Z3 = tf.matmul(F1,W3)\n",
        "\n",
        "  return Z3\n",
        "\n"
      ],
      "execution_count": 21,
      "outputs": []
    },
    {
      "cell_type": "markdown",
      "metadata": {
        "id": "lx24uSpRs8sT"
      },
      "source": [
        "Compute cost"
      ]
    },
    {
      "cell_type": "markdown",
      "metadata": {
        "id": "q5qEy3ZftAJ6"
      },
      "source": [
        "- tf.nn.softmax_cross_entropy_with_logits(logits = Z, labels = Y): computes the softmax entropy loss. This function both computes the softmax activation function as well as the resulting loss.\n",
        "- tf.reduce_mean: computes the mean of elements across dimensions of a tensor. Use this to calculate the sum of the losses over all the examples to get the overall cost."
      ]
    },
    {
      "cell_type": "code",
      "metadata": {
        "id": "WCzH4m9YtGJC"
      },
      "source": [
        "def compute_cost(Z3, Y):\n",
        "  cost = tf.reduce_mean(tf.nn.softmax_cross_entropy_with_logits(logits = Z3, labels = Y))\n",
        "  return cost"
      ],
      "execution_count": 22,
      "outputs": []
    },
    {
      "cell_type": "markdown",
      "metadata": {
        "id": "bLcQIuMxtSEK"
      },
      "source": [
        "Model "
      ]
    },
    {
      "cell_type": "code",
      "metadata": {
        "id": "3anXWrU-x_xN"
      },
      "source": [
        "def random_mini_batches(X, Y, mini_batch_size = 64, seed = 0):\n",
        "    \"\"\"\n",
        "    Creates a list of random minibatches from (X, Y)\n",
        "    \n",
        "    Arguments:\n",
        "    X -- input data, of shape (input size, number of examples) (m, Hi, Wi, Ci)\n",
        "    Y -- true \"label\" vector (containing 0 if cat, 1 if non-cat), of shape (1, number of examples) (m, n_y)\n",
        "    mini_batch_size - size of the mini-batches, integer\n",
        "    seed -- this is only for the purpose of grading, so that you're \"random minibatches are the same as ours.\n",
        "    \n",
        "    Returns:\n",
        "    mini_batches -- list of synchronous (mini_batch_X, mini_batch_Y)\n",
        "    \"\"\"\n",
        "    \n",
        "    m = X.shape[0]                  # number of training examples\n",
        "    mini_batches = []\n",
        "    np.random.seed(seed)\n",
        "    \n",
        "    # Step 1: Shuffle (X, Y)\n",
        "    permutation = list(np.random.permutation(m))\n",
        "    shuffled_X = X[permutation,:,:,:]\n",
        "    shuffled_Y = Y[permutation,:]\n",
        "\n",
        "    # Step 2: Partition (shuffled_X, shuffled_Y). Minus the end case.\n",
        "    num_complete_minibatches = math.floor(m/mini_batch_size) # number of mini batches of size mini_batch_size in your partitionning\n",
        "    for k in range(0, num_complete_minibatches):\n",
        "        mini_batch_X = shuffled_X[k * mini_batch_size : k * mini_batch_size + mini_batch_size,:,:,:]\n",
        "        mini_batch_Y = shuffled_Y[k * mini_batch_size : k * mini_batch_size + mini_batch_size,:]\n",
        "        mini_batch = (mini_batch_X, mini_batch_Y)\n",
        "        mini_batches.append(mini_batch)\n",
        "    \n",
        "    # Handling the end case (last mini-batch < mini_batch_size)\n",
        "    if m % mini_batch_size != 0:\n",
        "        mini_batch_X = shuffled_X[num_complete_minibatches * mini_batch_size : m,:,:,:]\n",
        "        mini_batch_Y = shuffled_Y[num_complete_minibatches * mini_batch_size : m,:]\n",
        "        mini_batch = (mini_batch_X, mini_batch_Y)\n",
        "        mini_batches.append(mini_batch)\n",
        "    \n",
        "    return mini_batches"
      ],
      "execution_count": 23,
      "outputs": []
    },
    {
      "cell_type": "code",
      "metadata": {
        "id": "GmGzkvIYtYnK"
      },
      "source": [
        "def model(X_train, Y_train, X_test, Y_test, learning_rate = 0.009,num_epochs = 100, minibatch_size = 64, print_cost = True):\n",
        "  costs=[]\n",
        "  accuracies = []\n",
        "  seed = 3 \n",
        "  (m, n_H0, n_W0, n_C0) = X_train.shape\n",
        "  parameters = initialize_parameters()\n",
        "  optimizer = tf.keras.optimizers.Adam(learning_rate)\n",
        "  for epoch in range(num_epochs):\n",
        "    minibatch_cost = 0.\n",
        "    num_minibatches = int(m / minibatch_size) # number of minibatches of size minibatch_size in the train set\n",
        "    seed = seed + 1\n",
        "    minibatches = random_mini_batches(X_train, Y_train, minibatch_size, seed)\n",
        "\n",
        "    for minibatch in minibatches:\n",
        "      # Select a minibatch\n",
        "      (minibatch_X, minibatch_Y) = minibatch\n",
        "      with tf.GradientTape() as tape:\n",
        "        Z3 = forward_propagation(minibatch_X,parameters)\n",
        "        current_loss = compute_cost(Z3,minibatch_Y)\n",
        "        grads = tape.gradient( current_loss , parameters )\n",
        "        optimizer.apply_gradients(zip(grads,parameters))\n",
        "        temp_cost = current_loss.numpy()\n",
        "      \n",
        "      minibatch_cost += temp_cost / num_minibatches\n",
        "\n",
        "    # Print the cost every epoch\n",
        "    if print_cost == True and epoch % 5 == 0:\n",
        "        print (\"Cost after epoch %i: %f\" % (epoch, minibatch_cost))\n",
        "    if print_cost == True and epoch % 1 == 0:\n",
        "        costs.append(minibatch_cost)\n",
        "  # plot the cost\n",
        "  plt.plot(np.squeeze(costs))\n",
        "  plt.ylabel('cost')\n",
        "  plt.xlabel('iterations (per tens)')\n",
        "  plt.title(\"Learning rate =\" + str(learning_rate))\n",
        "  plt.show()\n",
        "\n",
        "  Z3 = forward_propagation(X_train,parameters)\n",
        "  current_loss = compute_cost(Z3,Y_train)\n",
        "  costs.append(current_loss)\n",
        "  pred = tf.nn.softmax(Z3)\n",
        "  correct_prediction = tf.equal(tf.argmax(pred,axis=1),tf.argmax(Y_train, axis=1))\n",
        "  train_accuracy = tf.reduce_mean(tf.cast(correct_prediction, tf.float32)).numpy()\n",
        "  Z3 = forward_propagation(X_test,parameters)\n",
        "  current_loss = compute_cost(Z3,Y_test)\n",
        "  costs.append(current_loss)\n",
        "  pred = tf.nn.softmax(Z3)\n",
        "  correct_prediction = tf.equal(tf.argmax(pred,axis=1),tf.argmax(Y_test, axis=1))\n",
        "  test_accuracy =  tf.reduce_mean(tf.cast(correct_prediction, tf.float32)).numpy()\n",
        "  print(\"Train Accuracy:\", train_accuracy)\n",
        "  print(\"Test Accuracy:\", test_accuracy)\n"
      ],
      "execution_count": 24,
      "outputs": []
    },
    {
      "cell_type": "code",
      "metadata": {
        "colab": {
          "base_uri": "https://localhost:8080/",
          "height": 669
        },
        "id": "_ukMW1Hs0tI4",
        "outputId": "81427d6e-67f1-4255-d4aa-37b65f87b1b0"
      },
      "source": [
        "model(X_train, Y_train, X_test, Y_test)"
      ],
      "execution_count": 28,
      "outputs": [
        {
          "output_type": "stream",
          "name": "stdout",
          "text": [
            "Cost after epoch 0: 1.907949\n",
            "Cost after epoch 5: 1.439812\n",
            "Cost after epoch 10: 0.843526\n",
            "Cost after epoch 15: 0.672881\n",
            "Cost after epoch 20: 0.588231\n",
            "Cost after epoch 25: 0.519037\n",
            "Cost after epoch 30: 0.493517\n",
            "Cost after epoch 35: 0.500477\n",
            "Cost after epoch 40: 0.495355\n",
            "Cost after epoch 45: 0.419690\n",
            "Cost after epoch 50: 0.454369\n",
            "Cost after epoch 55: 0.410460\n",
            "Cost after epoch 60: 0.390031\n",
            "Cost after epoch 65: 0.354557\n",
            "Cost after epoch 70: 0.401280\n",
            "Cost after epoch 75: 0.401325\n",
            "Cost after epoch 80: 0.366241\n",
            "Cost after epoch 85: 0.335300\n",
            "Cost after epoch 90: 0.353795\n",
            "Cost after epoch 95: 0.357116\n"
          ]
        },
        {
          "output_type": "display_data",
          "data": {
            "image/png": "[encoded data removed]",
            "text/plain": [
              "<Figure size 432x288 with 1 Axes>"
            ]
          },
          "metadata": {
            "needs_background": "light"
          }
        },
        {
          "output_type": "stream",
          "name": "stdout",
          "text": [
            "Train Accuracy: 0.90833336\n",
            "Test Accuracy: 0.85\n"
          ]
        }
      ]
    },
    {
      "cell_type": "markdown",
      "metadata": {
        "id": "lzQP8XgKHFRB"
      },
      "source": [
        "**85% accuracy on test set** "
      ]
    }
  ]
}